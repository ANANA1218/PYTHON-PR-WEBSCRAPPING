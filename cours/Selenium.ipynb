{
 "cells": [
  {
   "cell_type": "code",
   "execution_count": 1,
   "id": "30e770f9-c582-4f85-a696-42ba81215b5d",
   "metadata": {},
   "outputs": [],
   "source": [
    "import os\n",
    "#set your environment variable for SSL certificate\n",
    "certi_path = \"D:/laragon/bin/python/python-3.10/Lib/site-packages/certifi/cacert.pem\"\n",
    "os.environ['REQUESTS_CA_BUNDLE'] = certi_path\n",
    "from selenium.webdriver.common.by import By\n",
    "from selenium import webdriver\n",
    "from selenium.webdriver.chrome.service import Service\n",
    "from webdriver_manager.chrome import ChromeDriverManager\n",
    "from selenium.webdriver.chrome.options import Options\n",
    "\n",
    "#init proxy\n",
    "from fp.fp import FreeProxy\n",
    "import requests\n",
    "from bs4 import BeautifulSoup\n",
    "proxy = FreeProxy(country_id=['FR']).get()\n",
    "\n",
    "# Initialize Chrome options\n",
    "options = Options()\n",
    "#options.add_argument(\"user-agent=Mozilla/5.0 (Windows NT 10.0; Win64; x64) AppleWebKit/537.36 (KHTML, like Gecko) Chrome/58.0.3029.110 Safari/537.3\")\n",
    "#disable the browser\n",
    "#options.add_argument(\"--headless\")\n",
    "options.add_argument(\"--disable-extensions\")\n",
    "options.add_argument(\"--ignore-certificate-errors\")\n",
    "options.add_argument(f'--proxy-server={proxy}')\n",
    "\n",
    "# Initialize Chrome WebDriver with the specified options\n",
    "service = Service(ChromeDriverManager().install())\n",
    "driver = webdriver.Chrome(service=service, options=options)\n",
    "\n",
    "\n",
    "# waits up to 10 seconds before throwing a NoSuchElementException\n",
    "driver.implicitly_wait(10)"
   ]
  },
  {
   "cell_type": "code",
   "execution_count": 2,
   "id": "8a1a1f9e-0b4e-439a-ba46-ca6387d8e1be",
   "metadata": {},
   "outputs": [
    {
     "data": {
      "text/plain": [
       "'http://116.203.28.43:80'"
      ]
     },
     "execution_count": 2,
     "metadata": {},
     "output_type": "execute_result"
    }
   ],
   "source": [
    "proxy\n",
    "#driver.get('https://google.com')"
   ]
  },
  {
   "cell_type": "code",
   "execution_count": 6,
   "id": "3cb01b56-20a2-4221-98b8-968ff7ce7324",
   "metadata": {},
   "outputs": [
    {
     "ename": "WebDriverException",
     "evalue": "Message: unknown error: net::ERR_TUNNEL_CONNECTION_FAILED\n  (Session info: chrome=122.0.6261.113)\nStacktrace:\n\tGetHandleVerifier [0x00438D03+51395]\n\t(No symbol) [0x003A5F61]\n\t(No symbol) [0x0025E13A]\n\t(No symbol) [0x0025A6BF]\n\t(No symbol) [0x0024F68C]\n\t(No symbol) [0x00250698]\n\t(No symbol) [0x0024F8F3]\n\t(No symbol) [0x0024ED73]\n\t(No symbol) [0x0024ECA3]\n\t(No symbol) [0x0024D98B]\n\t(No symbol) [0x0024E0AB]\n\t(No symbol) [0x00260258]\n\t(No symbol) [0x002CAC91]\n\t(No symbol) [0x002B3E8C]\n\t(No symbol) [0x002CA570]\n\t(No symbol) [0x002B3C26]\n\t(No symbol) [0x0028C629]\n\t(No symbol) [0x0028D40D]\n\tGetHandleVerifier [0x007B68D3+3712147]\n\tGetHandleVerifier [0x007F5CBA+3971194]\n\tGetHandleVerifier [0x007F0FA8+3951464]\n\tGetHandleVerifier [0x004E9D09+776393]\n\t(No symbol) [0x003B1734]\n\t(No symbol) [0x003AC618]\n\t(No symbol) [0x003AC7C9]\n\t(No symbol) [0x0039DDF0]\n\tBaseThreadInitThunk [0x76897BA9+25]\n\tRtlInitializeExceptionChain [0x77CEBDAB+107]\n\tRtlClearBits [0x77CEBD2F+191]\n",
     "output_type": "error",
     "traceback": [
      "\u001b[1;31m---------------------------------------------------------------------------\u001b[0m",
      "\u001b[1;31mWebDriverException\u001b[0m                        Traceback (most recent call last)",
      "Cell \u001b[1;32mIn[6], line 3\u001b[0m\n\u001b[0;32m      1\u001b[0m \u001b[38;5;28;01mfrom\u001b[39;00m \u001b[38;5;21;01mselenium\u001b[39;00m\u001b[38;5;21;01m.\u001b[39;00m\u001b[38;5;21;01mwebdriver\u001b[39;00m\u001b[38;5;21;01m.\u001b[39;00m\u001b[38;5;21;01mcommon\u001b[39;00m\u001b[38;5;21;01m.\u001b[39;00m\u001b[38;5;21;01mby\u001b[39;00m \u001b[38;5;28;01mimport\u001b[39;00m By\n\u001b[1;32m----> 3\u001b[0m \u001b[43mdriver\u001b[49m\u001b[38;5;241;43m.\u001b[39;49m\u001b[43mget\u001b[49m\u001b[43m(\u001b[49m\u001b[38;5;124;43m\"\u001b[39;49m\u001b[38;5;124;43mhttps://www.amazon.com/Dyson-V10-Allergy-Cordless-Cleaner/dp/B095LD5SWQ/\u001b[39;49m\u001b[38;5;124;43m\"\u001b[39;49m\u001b[43m)\u001b[49m\n\u001b[0;32m      5\u001b[0m title \u001b[38;5;241m=\u001b[39m driver\u001b[38;5;241m.\u001b[39mfind_element(By\u001b[38;5;241m.\u001b[39mXPATH, value\u001b[38;5;241m=\u001b[39m\u001b[38;5;124m'\u001b[39m\u001b[38;5;124m//span[@id=\u001b[39m\u001b[38;5;124m\"\u001b[39m\u001b[38;5;124mproductTitle\u001b[39m\u001b[38;5;124m\"\u001b[39m\u001b[38;5;124m]\u001b[39m\u001b[38;5;124m'\u001b[39m)\n\u001b[0;32m      6\u001b[0m current_price \u001b[38;5;241m=\u001b[39m driver\u001b[38;5;241m.\u001b[39mfind_element(By\u001b[38;5;241m.\u001b[39mXPATH, value\u001b[38;5;241m=\u001b[39m\u001b[38;5;124m'\u001b[39m\u001b[38;5;124m//div[@id=\u001b[39m\u001b[38;5;124m\"\u001b[39m\u001b[38;5;124mcorePriceDisplay_desktop_feature_div\u001b[39m\u001b[38;5;124m\"\u001b[39m\u001b[38;5;124m]//span[@class=\u001b[39m\u001b[38;5;124m\"\u001b[39m\u001b[38;5;124maok-offscreen\u001b[39m\u001b[38;5;124m\"\u001b[39m\u001b[38;5;124m]\u001b[39m\u001b[38;5;124m'\u001b[39m)\n",
      "File \u001b[1;32mD:\\laragon\\bin\\python\\python-3.10\\lib\\site-packages\\selenium\\webdriver\\remote\\webdriver.py:356\u001b[0m, in \u001b[0;36mWebDriver.get\u001b[1;34m(self, url)\u001b[0m\n\u001b[0;32m    354\u001b[0m \u001b[38;5;28;01mdef\u001b[39;00m \u001b[38;5;21mget\u001b[39m(\u001b[38;5;28mself\u001b[39m, url: \u001b[38;5;28mstr\u001b[39m) \u001b[38;5;241m-\u001b[39m\u001b[38;5;241m>\u001b[39m \u001b[38;5;28;01mNone\u001b[39;00m:\n\u001b[0;32m    355\u001b[0m \u001b[38;5;250m    \u001b[39m\u001b[38;5;124;03m\"\"\"Loads a web page in the current browser session.\"\"\"\u001b[39;00m\n\u001b[1;32m--> 356\u001b[0m     \u001b[38;5;28;43mself\u001b[39;49m\u001b[38;5;241;43m.\u001b[39;49m\u001b[43mexecute\u001b[49m\u001b[43m(\u001b[49m\u001b[43mCommand\u001b[49m\u001b[38;5;241;43m.\u001b[39;49m\u001b[43mGET\u001b[49m\u001b[43m,\u001b[49m\u001b[43m \u001b[49m\u001b[43m{\u001b[49m\u001b[38;5;124;43m\"\u001b[39;49m\u001b[38;5;124;43murl\u001b[39;49m\u001b[38;5;124;43m\"\u001b[39;49m\u001b[43m:\u001b[49m\u001b[43m \u001b[49m\u001b[43murl\u001b[49m\u001b[43m}\u001b[49m\u001b[43m)\u001b[49m\n",
      "File \u001b[1;32mD:\\laragon\\bin\\python\\python-3.10\\lib\\site-packages\\selenium\\webdriver\\remote\\webdriver.py:347\u001b[0m, in \u001b[0;36mWebDriver.execute\u001b[1;34m(self, driver_command, params)\u001b[0m\n\u001b[0;32m    345\u001b[0m response \u001b[38;5;241m=\u001b[39m \u001b[38;5;28mself\u001b[39m\u001b[38;5;241m.\u001b[39mcommand_executor\u001b[38;5;241m.\u001b[39mexecute(driver_command, params)\n\u001b[0;32m    346\u001b[0m \u001b[38;5;28;01mif\u001b[39;00m response:\n\u001b[1;32m--> 347\u001b[0m     \u001b[38;5;28;43mself\u001b[39;49m\u001b[38;5;241;43m.\u001b[39;49m\u001b[43merror_handler\u001b[49m\u001b[38;5;241;43m.\u001b[39;49m\u001b[43mcheck_response\u001b[49m\u001b[43m(\u001b[49m\u001b[43mresponse\u001b[49m\u001b[43m)\u001b[49m\n\u001b[0;32m    348\u001b[0m     response[\u001b[38;5;124m\"\u001b[39m\u001b[38;5;124mvalue\u001b[39m\u001b[38;5;124m\"\u001b[39m] \u001b[38;5;241m=\u001b[39m \u001b[38;5;28mself\u001b[39m\u001b[38;5;241m.\u001b[39m_unwrap_value(response\u001b[38;5;241m.\u001b[39mget(\u001b[38;5;124m\"\u001b[39m\u001b[38;5;124mvalue\u001b[39m\u001b[38;5;124m\"\u001b[39m, \u001b[38;5;28;01mNone\u001b[39;00m))\n\u001b[0;32m    349\u001b[0m     \u001b[38;5;28;01mreturn\u001b[39;00m response\n",
      "File \u001b[1;32mD:\\laragon\\bin\\python\\python-3.10\\lib\\site-packages\\selenium\\webdriver\\remote\\errorhandler.py:229\u001b[0m, in \u001b[0;36mErrorHandler.check_response\u001b[1;34m(self, response)\u001b[0m\n\u001b[0;32m    227\u001b[0m         alert_text \u001b[38;5;241m=\u001b[39m value[\u001b[38;5;124m\"\u001b[39m\u001b[38;5;124malert\u001b[39m\u001b[38;5;124m\"\u001b[39m]\u001b[38;5;241m.\u001b[39mget(\u001b[38;5;124m\"\u001b[39m\u001b[38;5;124mtext\u001b[39m\u001b[38;5;124m\"\u001b[39m)\n\u001b[0;32m    228\u001b[0m     \u001b[38;5;28;01mraise\u001b[39;00m exception_class(message, screen, stacktrace, alert_text)  \u001b[38;5;66;03m# type: ignore[call-arg]  # mypy is not smart enough here\u001b[39;00m\n\u001b[1;32m--> 229\u001b[0m \u001b[38;5;28;01mraise\u001b[39;00m exception_class(message, screen, stacktrace)\n",
      "\u001b[1;31mWebDriverException\u001b[0m: Message: unknown error: net::ERR_TUNNEL_CONNECTION_FAILED\n  (Session info: chrome=122.0.6261.113)\nStacktrace:\n\tGetHandleVerifier [0x00438D03+51395]\n\t(No symbol) [0x003A5F61]\n\t(No symbol) [0x0025E13A]\n\t(No symbol) [0x0025A6BF]\n\t(No symbol) [0x0024F68C]\n\t(No symbol) [0x00250698]\n\t(No symbol) [0x0024F8F3]\n\t(No symbol) [0x0024ED73]\n\t(No symbol) [0x0024ECA3]\n\t(No symbol) [0x0024D98B]\n\t(No symbol) [0x0024E0AB]\n\t(No symbol) [0x00260258]\n\t(No symbol) [0x002CAC91]\n\t(No symbol) [0x002B3E8C]\n\t(No symbol) [0x002CA570]\n\t(No symbol) [0x002B3C26]\n\t(No symbol) [0x0028C629]\n\t(No symbol) [0x0028D40D]\n\tGetHandleVerifier [0x007B68D3+3712147]\n\tGetHandleVerifier [0x007F5CBA+3971194]\n\tGetHandleVerifier [0x007F0FA8+3951464]\n\tGetHandleVerifier [0x004E9D09+776393]\n\t(No symbol) [0x003B1734]\n\t(No symbol) [0x003AC618]\n\t(No symbol) [0x003AC7C9]\n\t(No symbol) [0x0039DDF0]\n\tBaseThreadInitThunk [0x76897BA9+25]\n\tRtlInitializeExceptionChain [0x77CEBDAB+107]\n\tRtlClearBits [0x77CEBD2F+191]\n"
     ]
    }
   ],
   "source": [
    "from selenium.webdriver.common.by import By\n",
    "\n",
    "driver.get(\"https://www.amazon.com/Dyson-V10-Allergy-Cordless-Cleaner/dp/B095LD5SWQ/\")\n",
    "\n",
    "title = driver.find_element(By.XPATH, value='//span[@id=\"productTitle\"]')\n",
    "current_price = driver.find_element(By.XPATH, value='//div[@id=\"corePriceDisplay_desktop_feature_div\"]//span[@class=\"aok-offscreen\"]')\n",
    "image = driver.find_element(By.XPATH, value='//div[@id=\"imgTagWrapperId\"]/img')\n",
    "\n",
    "product_data = {\n",
    "    'title': title.text,\n",
    "    'current_price': current_price.get_attribute('innerHTML'),\n",
    "    'image_url': image.get_attribute('src')\n",
    "}\n",
    "\n",
    "print(product_data)\n",
    "driver.quit()"
   ]
  },
  {
   "cell_type": "code",
   "execution_count": 7,
   "id": "2570dd02-a296-41f4-a2d9-52160b790ec3",
   "metadata": {},
   "outputs": [
    {
     "data": {
      "text/plain": [
       "True"
      ]
     },
     "execution_count": 7,
     "metadata": {},
     "output_type": "execute_result"
    }
   ],
   "source": [
    "driver.save_screenshot('screenshot.png')"
   ]
  },
  {
   "cell_type": "code",
   "execution_count": 8,
   "id": "a4cf9e92-088b-4c22-922f-b68b5d58cd4e",
   "metadata": {},
   "outputs": [],
   "source": [
    "javaScript = \"window.scrollBy(0, 1000);\"\n",
    "driver.execute_script(javaScript)"
   ]
  },
  {
   "cell_type": "code",
   "execution_count": 9,
   "id": "367ec93d-5c0e-4215-9ddd-72c90739e1f5",
   "metadata": {},
   "outputs": [
    {
     "ename": "SyntaxError",
     "evalue": "invalid syntax (1958997536.py, line 1)",
     "output_type": "error",
     "traceback": [
      "\u001b[1;36m  Cell \u001b[1;32mIn[9], line 1\u001b[1;36m\u001b[0m\n\u001b[1;33m    document.querySelectorAll('a').forEach(e => e.style.border='red 2px solid')\u001b[0m\n\u001b[1;37m                                              ^\u001b[0m\n\u001b[1;31mSyntaxError\u001b[0m\u001b[1;31m:\u001b[0m invalid syntax\n"
     ]
    }
   ],
   "source": [
    "document.querySelectorAll('a').forEach(e => e.style.border='red 2px solid')"
   ]
  },
  {
   "cell_type": "code",
   "execution_count": 11,
   "id": "e9532038-9b85-488e-8e6b-f29109374098",
   "metadata": {},
   "outputs": [
    {
     "ename": "TypeError",
     "evalue": "WebDriver.__init__() got an unexpected keyword argument 'executable_path'",
     "output_type": "error",
     "traceback": [
      "\u001b[1;31m---------------------------------------------------------------------------\u001b[0m",
      "\u001b[1;31mTypeError\u001b[0m                                 Traceback (most recent call last)",
      "Cell \u001b[1;32mIn[11], line 14\u001b[0m\n\u001b[0;32m      6\u001b[0m chrome_prefs \u001b[38;5;241m=\u001b[39m {\n\u001b[0;32m      7\u001b[0m     \u001b[38;5;124m\"\u001b[39m\u001b[38;5;124mprofile.default_content_setting_values\u001b[39m\u001b[38;5;124m\"\u001b[39m: {\n\u001b[0;32m      8\u001b[0m         \u001b[38;5;124m\"\u001b[39m\u001b[38;5;124mimages\u001b[39m\u001b[38;5;124m\"\u001b[39m: \u001b[38;5;241m2\u001b[39m,\n\u001b[0;32m      9\u001b[0m         \u001b[38;5;124m\"\u001b[39m\u001b[38;5;124mjavascript\u001b[39m\u001b[38;5;124m\"\u001b[39m: \u001b[38;5;241m2\u001b[39m,\n\u001b[0;32m     10\u001b[0m     }\n\u001b[0;32m     11\u001b[0m }\n\u001b[0;32m     12\u001b[0m chrome_options\u001b[38;5;241m.\u001b[39mexperimental_options[\u001b[38;5;124m\"\u001b[39m\u001b[38;5;124mprefs\u001b[39m\u001b[38;5;124m\"\u001b[39m] \u001b[38;5;241m=\u001b[39m chrome_prefs\n\u001b[1;32m---> 14\u001b[0m driver \u001b[38;5;241m=\u001b[39m \u001b[43mwebdriver\u001b[49m\u001b[38;5;241;43m.\u001b[39;49m\u001b[43mChrome\u001b[49m\u001b[43m(\u001b[49m\n\u001b[0;32m     15\u001b[0m \u001b[43m    \u001b[49m\u001b[43mexecutable_path\u001b[49m\u001b[38;5;241;43m=\u001b[39;49m\u001b[38;5;124;43m\"\u001b[39;49m\u001b[38;5;124;43mhttps://www.amazon.com/Dyson-V10-Allergy-Cordless-Cleaner/dp/B095LD5SWQ/\u001b[39;49m\u001b[38;5;124;43m\"\u001b[39;49m\u001b[43m,\u001b[49m\n\u001b[0;32m     16\u001b[0m \u001b[43m    \u001b[49m\u001b[43mchrome_options\u001b[49m\u001b[38;5;241;43m=\u001b[39;49m\u001b[43mchrome_options\u001b[49m\u001b[43m,\u001b[49m\n\u001b[0;32m     17\u001b[0m \u001b[43m)\u001b[49m\n\u001b[0;32m     18\u001b[0m driver\u001b[38;5;241m.\u001b[39mget(URL)\n",
      "\u001b[1;31mTypeError\u001b[0m: WebDriver.__init__() got an unexpected keyword argument 'executable_path'"
     ]
    }
   ],
   "source": [
    "from selenium import webdriver\n",
    "\n",
    "chrome_options = webdriver.ChromeOptions()\n",
    "\n",
    "# Block images and JavaScript\n",
    "chrome_prefs = {\n",
    "    \"profile.default_content_setting_values\": {\n",
    "        \"images\": 2,\n",
    "        \"javascript\": 2,\n",
    "    }\n",
    "}\n",
    "chrome_options.experimental_options[\"prefs\"] = chrome_prefs\n",
    "\n",
    "driver = webdriver.Chrome(\n",
    "    executable_path=\"https://www.amazon.com/Dyson-V10-Allergy-Cordless-Cleaner/dp/B095LD5SWQ/\",\n",
    "    chrome_options=chrome_options,\n",
    ")\n",
    "driver.get(URL)"
   ]
  },
  {
   "cell_type": "code",
   "execution_count": 12,
   "id": "b0b48743-78be-4fc3-8c6d-00d2ec6cb71f",
   "metadata": {},
   "outputs": [
    {
     "ename": "WebDriverException",
     "evalue": "Message: unknown error: net::ERR_TUNNEL_CONNECTION_FAILED\n  (Session info: chrome=122.0.6261.113)\nStacktrace:\n\tGetHandleVerifier [0x00438D03+51395]\n\t(No symbol) [0x003A5F61]\n\t(No symbol) [0x0025E13A]\n\t(No symbol) [0x0025A6BF]\n\t(No symbol) [0x0024F68C]\n\t(No symbol) [0x00250698]\n\t(No symbol) [0x0024F8F3]\n\t(No symbol) [0x0024ED73]\n\t(No symbol) [0x0024ECA3]\n\t(No symbol) [0x0024D98B]\n\t(No symbol) [0x0024E0AB]\n\t(No symbol) [0x00260258]\n\t(No symbol) [0x002CAC91]\n\t(No symbol) [0x002B3E8C]\n\t(No symbol) [0x002CA570]\n\t(No symbol) [0x002B3C26]\n\t(No symbol) [0x0028C629]\n\t(No symbol) [0x0028D40D]\n\tGetHandleVerifier [0x007B68D3+3712147]\n\tGetHandleVerifier [0x007F5CBA+3971194]\n\tGetHandleVerifier [0x007F0FA8+3951464]\n\tGetHandleVerifier [0x004E9D09+776393]\n\t(No symbol) [0x003B1734]\n\t(No symbol) [0x003AC618]\n\t(No symbol) [0x003AC7C9]\n\t(No symbol) [0x0039DDF0]\n\tBaseThreadInitThunk [0x76897BA9+25]\n\tRtlInitializeExceptionChain [0x77CEBDAB+107]\n\tRtlClearBits [0x77CEBD2F+191]\n",
     "output_type": "error",
     "traceback": [
      "\u001b[1;31m---------------------------------------------------------------------------\u001b[0m",
      "\u001b[1;31mWebDriverException\u001b[0m                        Traceback (most recent call last)",
      "Cell \u001b[1;32mIn[12], line 9\u001b[0m\n\u001b[0;32m      6\u001b[0m password \u001b[38;5;241m=\u001b[39m \u001b[38;5;124m\"\u001b[39m\u001b[38;5;124mPassword123\u001b[39m\u001b[38;5;124m\"\u001b[39m\n\u001b[0;32m      7\u001b[0m username \u001b[38;5;241m=\u001b[39m \u001b[38;5;124m\"\u001b[39m\u001b[38;5;124mstudent\u001b[39m\u001b[38;5;124m\"\u001b[39m\n\u001b[1;32m----> 9\u001b[0m \u001b[43mdriver\u001b[49m\u001b[38;5;241;43m.\u001b[39;49m\u001b[43mget\u001b[49m\u001b[43m(\u001b[49m\u001b[38;5;124;43m\"\u001b[39;49m\u001b[38;5;124;43mhttps://practicetestautomation.com/practice-test-login/\u001b[39;49m\u001b[38;5;124;43m\"\u001b[39;49m\u001b[43m)\u001b[49m\n\u001b[0;32m     11\u001b[0m \u001b[38;5;66;03m#find the username input field and enter the specified username\u001b[39;00m\n\u001b[0;32m     12\u001b[0m username_input \u001b[38;5;241m=\u001b[39m driver\u001b[38;5;241m.\u001b[39mfind_element(by\u001b[38;5;241m=\u001b[39mBy\u001b[38;5;241m.\u001b[39mID, value\u001b[38;5;241m=\u001b[39m\u001b[38;5;124m\"\u001b[39m\u001b[38;5;124musername\u001b[39m\u001b[38;5;124m\"\u001b[39m)\n",
      "File \u001b[1;32mD:\\laragon\\bin\\python\\python-3.10\\lib\\site-packages\\selenium\\webdriver\\remote\\webdriver.py:356\u001b[0m, in \u001b[0;36mWebDriver.get\u001b[1;34m(self, url)\u001b[0m\n\u001b[0;32m    354\u001b[0m \u001b[38;5;28;01mdef\u001b[39;00m \u001b[38;5;21mget\u001b[39m(\u001b[38;5;28mself\u001b[39m, url: \u001b[38;5;28mstr\u001b[39m) \u001b[38;5;241m-\u001b[39m\u001b[38;5;241m>\u001b[39m \u001b[38;5;28;01mNone\u001b[39;00m:\n\u001b[0;32m    355\u001b[0m \u001b[38;5;250m    \u001b[39m\u001b[38;5;124;03m\"\"\"Loads a web page in the current browser session.\"\"\"\u001b[39;00m\n\u001b[1;32m--> 356\u001b[0m     \u001b[38;5;28;43mself\u001b[39;49m\u001b[38;5;241;43m.\u001b[39;49m\u001b[43mexecute\u001b[49m\u001b[43m(\u001b[49m\u001b[43mCommand\u001b[49m\u001b[38;5;241;43m.\u001b[39;49m\u001b[43mGET\u001b[49m\u001b[43m,\u001b[49m\u001b[43m \u001b[49m\u001b[43m{\u001b[49m\u001b[38;5;124;43m\"\u001b[39;49m\u001b[38;5;124;43murl\u001b[39;49m\u001b[38;5;124;43m\"\u001b[39;49m\u001b[43m:\u001b[49m\u001b[43m \u001b[49m\u001b[43murl\u001b[49m\u001b[43m}\u001b[49m\u001b[43m)\u001b[49m\n",
      "File \u001b[1;32mD:\\laragon\\bin\\python\\python-3.10\\lib\\site-packages\\selenium\\webdriver\\remote\\webdriver.py:347\u001b[0m, in \u001b[0;36mWebDriver.execute\u001b[1;34m(self, driver_command, params)\u001b[0m\n\u001b[0;32m    345\u001b[0m response \u001b[38;5;241m=\u001b[39m \u001b[38;5;28mself\u001b[39m\u001b[38;5;241m.\u001b[39mcommand_executor\u001b[38;5;241m.\u001b[39mexecute(driver_command, params)\n\u001b[0;32m    346\u001b[0m \u001b[38;5;28;01mif\u001b[39;00m response:\n\u001b[1;32m--> 347\u001b[0m     \u001b[38;5;28;43mself\u001b[39;49m\u001b[38;5;241;43m.\u001b[39;49m\u001b[43merror_handler\u001b[49m\u001b[38;5;241;43m.\u001b[39;49m\u001b[43mcheck_response\u001b[49m\u001b[43m(\u001b[49m\u001b[43mresponse\u001b[49m\u001b[43m)\u001b[49m\n\u001b[0;32m    348\u001b[0m     response[\u001b[38;5;124m\"\u001b[39m\u001b[38;5;124mvalue\u001b[39m\u001b[38;5;124m\"\u001b[39m] \u001b[38;5;241m=\u001b[39m \u001b[38;5;28mself\u001b[39m\u001b[38;5;241m.\u001b[39m_unwrap_value(response\u001b[38;5;241m.\u001b[39mget(\u001b[38;5;124m\"\u001b[39m\u001b[38;5;124mvalue\u001b[39m\u001b[38;5;124m\"\u001b[39m, \u001b[38;5;28;01mNone\u001b[39;00m))\n\u001b[0;32m    349\u001b[0m     \u001b[38;5;28;01mreturn\u001b[39;00m response\n",
      "File \u001b[1;32mD:\\laragon\\bin\\python\\python-3.10\\lib\\site-packages\\selenium\\webdriver\\remote\\errorhandler.py:229\u001b[0m, in \u001b[0;36mErrorHandler.check_response\u001b[1;34m(self, response)\u001b[0m\n\u001b[0;32m    227\u001b[0m         alert_text \u001b[38;5;241m=\u001b[39m value[\u001b[38;5;124m\"\u001b[39m\u001b[38;5;124malert\u001b[39m\u001b[38;5;124m\"\u001b[39m]\u001b[38;5;241m.\u001b[39mget(\u001b[38;5;124m\"\u001b[39m\u001b[38;5;124mtext\u001b[39m\u001b[38;5;124m\"\u001b[39m)\n\u001b[0;32m    228\u001b[0m     \u001b[38;5;28;01mraise\u001b[39;00m exception_class(message, screen, stacktrace, alert_text)  \u001b[38;5;66;03m# type: ignore[call-arg]  # mypy is not smart enough here\u001b[39;00m\n\u001b[1;32m--> 229\u001b[0m \u001b[38;5;28;01mraise\u001b[39;00m exception_class(message, screen, stacktrace)\n",
      "\u001b[1;31mWebDriverException\u001b[0m: Message: unknown error: net::ERR_TUNNEL_CONNECTION_FAILED\n  (Session info: chrome=122.0.6261.113)\nStacktrace:\n\tGetHandleVerifier [0x00438D03+51395]\n\t(No symbol) [0x003A5F61]\n\t(No symbol) [0x0025E13A]\n\t(No symbol) [0x0025A6BF]\n\t(No symbol) [0x0024F68C]\n\t(No symbol) [0x00250698]\n\t(No symbol) [0x0024F8F3]\n\t(No symbol) [0x0024ED73]\n\t(No symbol) [0x0024ECA3]\n\t(No symbol) [0x0024D98B]\n\t(No symbol) [0x0024E0AB]\n\t(No symbol) [0x00260258]\n\t(No symbol) [0x002CAC91]\n\t(No symbol) [0x002B3E8C]\n\t(No symbol) [0x002CA570]\n\t(No symbol) [0x002B3C26]\n\t(No symbol) [0x0028C629]\n\t(No symbol) [0x0028D40D]\n\tGetHandleVerifier [0x007B68D3+3712147]\n\tGetHandleVerifier [0x007F5CBA+3971194]\n\tGetHandleVerifier [0x007F0FA8+3951464]\n\tGetHandleVerifier [0x004E9D09+776393]\n\t(No symbol) [0x003B1734]\n\t(No symbol) [0x003AC618]\n\t(No symbol) [0x003AC7C9]\n\t(No symbol) [0x0039DDF0]\n\tBaseThreadInitThunk [0x76897BA9+25]\n\tRtlInitializeExceptionChain [0x77CEBDAB+107]\n\tRtlClearBits [0x77CEBD2F+191]\n"
     ]
    }
   ],
   "source": [
    "from selenium import webdriver\n",
    "from selenium.webdriver.common.by import By\n",
    "import time \n",
    "\n",
    "# Your login credentials\n",
    "password = \"Password123\"\n",
    "username = \"student\"\n",
    "\n",
    "driver.get(\"https://practicetestautomation.com/practice-test-login/\")\n",
    "\n",
    "#find the username input field and enter the specified username\n",
    "username_input = driver.find_element(by=By.ID, value=\"username\")\n",
    "username_input.send_keys(username)\n",
    "\n",
    "#find the password input field and enter the specified password\n",
    "password_input = driver.find_element(by=By.ID, value=\"password\")\n",
    "password_input.send_keys(password)\n",
    "\n",
    "#find the form's submit button and click it\n",
    "submit_button = driver.find_element(by=By.ID, value=\"submit\")\n",
    "submit_button.click()\n",
    "\n",
    "#wait for the new page to load\n",
    "time.sleep(3)"
   ]
  },
  {
   "cell_type": "code",
   "execution_count": null,
   "id": "f7859452-95c3-4168-8289-58dd1dcaa75d",
   "metadata": {},
   "outputs": [],
   "source": []
  }
 ],
 "metadata": {
  "kernelspec": {
   "display_name": "Python 3 (ipykernel)",
   "language": "python",
   "name": "python3"
  },
  "language_info": {
   "codemirror_mode": {
    "name": "ipython",
    "version": 3
   },
   "file_extension": ".py",
   "mimetype": "text/x-python",
   "name": "python",
   "nbconvert_exporter": "python",
   "pygments_lexer": "ipython3",
   "version": "3.10.6"
  }
 },
 "nbformat": 4,
 "nbformat_minor": 5
}
