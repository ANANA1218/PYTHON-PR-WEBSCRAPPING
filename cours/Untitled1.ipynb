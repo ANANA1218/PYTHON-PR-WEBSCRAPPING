{
 "cells": [
  {
   "cell_type": "code",
   "execution_count": 4,
   "id": "95ab61af-dba7-47bd-8245-02195378795b",
   "metadata": {},
   "outputs": [
    {
     "name": "stdout",
     "output_type": "stream",
     "text": [
      "Titre de la page: BBC Home - Breaking News, World News, US News, Sports, Business, Innovation, Climate, Culture, Travel, Video & Audio\n",
      "Articles:\n",
      "Données récupérées: {'title': 'BBC Home - Breaking News, World News, US News, Sports, Business, Innovation, Climate, Culture, Travel, Video & Audio', 'article': [], 'article_links': [], 'article_descriptions': []}\n"
     ]
    }
   ],
   "source": [
    "import requests\n",
    "from bs4 import BeautifulSoup\n",
    "import time\n",
    "\n",
    "# Fonction pour scraper les informations du site de la BBC News\n",
    "def scrape_bbc_news():\n",
    "    url = \"https://www.bbc.com\"  # URL de la page d'accueil de la BBC News\n",
    "    headers = {'User-Agent': 'Mozilla/5.0 (Windows NT 10.0; Win64; x64) AppleWebKit/537.36 (KHTML, like Gecko) Chrome/97.0.4692.99 Safari/537.36'}  # User-Agent pour simuler une connexion de navigateur\n",
    "    response = requests.get(url, headers=headers)  # Envoi de la requête HTTP GET\n",
    "\n",
    "    if response.status_code == 200:  # Vérification si la requête a réussi\n",
    "        soup = BeautifulSoup(response.content, 'html.parser')  # Analyse du contenu HTML de la page avec BeautifulSoup\n",
    "\n",
    "        # Scraping du titre de la page\n",
    "        title = soup.title.text\n",
    "\n",
    "        # Scraping des titres des articles\n",
    "        article_titles = [article.text.strip() for article in soup.find_all('article', class_='gs-c-promo-heading__title')]\n",
    "\n",
    "        # Scraping des liens des articles\n",
    "        article_links = [article.a['href'] for article in soup.find_all('div', class_='gs-c-promo-body')]\n",
    "\n",
    "        # Scraping des descriptions des articles\n",
    "        article_descriptions = [article.text.strip() for article in soup.find_all('p', class_='gs-c-promo-summary')]\n",
    "\n",
    "        # Affichage des informations scraped\n",
    "        print(\"Titre de la page:\", title)\n",
    "        print(\"Articles:\")\n",
    "        for i in range(len(article_titles)):\n",
    "            print(f\"Titre: {article_titles[i]}\")\n",
    "            print(f\"Description: {article_descriptions[i]}\")\n",
    "            print(f\"lien: {article_links[i]}\")\n",
    "            print()\n",
    "\n",
    "        # Retourner les données scraped\n",
    "        return {\n",
    "            \"title\": title,\n",
    "            \"article\": article_titles,\n",
    "            \"article_links\": article_links,\n",
    "            \"article_descriptions\": article_descriptions\n",
    "        }\n",
    "\n",
    "    else:\n",
    "        print(\"La requête a échoué avec le code de statut:\", response.status_code)\n",
    "        return None\n",
    "\n",
    "# Appel de la fonction de scraping de la BBC News\n",
    "data = scrape_bbc_news()\n",
    "\n",
    "# Pause d'une seconde pour éviter d'être signalé comme spam\n",
    "time.sleep(1)\n",
    "\n",
    "# Affichage des données récupérées\n",
    "print(\"Données récupérées:\", data)\n"
   ]
  },
  {
   "cell_type": "code",
   "execution_count": null,
   "id": "f3606fed-97e6-422a-9331-5767dab62071",
   "metadata": {},
   "outputs": [],
   "source": []
  }
 ],
 "metadata": {
  "kernelspec": {
   "display_name": "Python 3 (ipykernel)",
   "language": "python",
   "name": "python3"
  },
  "language_info": {
   "codemirror_mode": {
    "name": "ipython",
    "version": 3
   },
   "file_extension": ".py",
   "mimetype": "text/x-python",
   "name": "python",
   "nbconvert_exporter": "python",
   "pygments_lexer": "ipython3",
   "version": "3.10.6"
  }
 },
 "nbformat": 4,
 "nbformat_minor": 5
}
